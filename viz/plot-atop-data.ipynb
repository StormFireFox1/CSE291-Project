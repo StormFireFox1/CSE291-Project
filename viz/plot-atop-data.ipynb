{
  "cells": [
    {
      "cell_type": "code",
      "execution_count": null,
      "metadata": {},
      "outputs": [],
      "source": [
        "import pandas as pd\n",
        "import json\n",
        "import numpy as np\n",
        "import matplotlib.pyplot as plt\n",
        "import seaborn as sns\n",
        "\n",
        "sns.set_theme()"
      ]
    },
    {
      "cell_type": "code",
      "execution_count": null,
      "metadata": {},
      "outputs": [],
      "source": [
        "df = pd.read_json(\"atop-profile.jsonl\", lines=True)\n",
        "df = df.iloc[1:]\n",
        "df.head()"
      ]
    },
    {
      "cell_type": "code",
      "execution_count": null,
      "metadata": {},
      "outputs": [],
      "source": [
        "def get_percentage(row, type):\n",
        "    return row[f\"{type}time\"] / row[\"freq\"] * 1000\n",
        "\n",
        "df[\"user_percentage\"] = df[\"CPU\"].map(lambda row: get_percentage(row, \"u\"))\n",
        "df[\"sys_percentage\"] = df[\"CPU\"].map(lambda row: get_percentage(row, \"s\"))"
      ]
    },
    {
      "cell_type": "code",
      "execution_count": null,
      "metadata": {},
      "outputs": [],
      "source": [
        "\n",
        "sns.lineplot(df, x=\"timestamp\", y=\"user_percentage\")"
      ]
    },
    {
      "cell_type": "code",
      "execution_count": null,
      "metadata": {},
      "outputs": [],
      "source": [
        "def get_memory_percentage(row):\n",
        "    return (row[\"physmem\"] - row[\"availablemem\"]) / row[\"physmem\"] * 100\n",
        "\n",
        "df[\"mem_percentage\"] = df[\"MEM\"].map(get_memory_percentage)"
      ]
    },
    {
      "cell_type": "code",
      "execution_count": null,
      "metadata": {},
      "outputs": [],
      "source": [
        "sns.lineplot(df, x=\"timestamp\", y=\"mem_percentage\")"
      ]
    }
  ],
  "metadata": {
    "kernelspec": {
      "display_name": "Python 3",
      "language": "python",
      "name": "python3"
    },
    "language_info": {
      "codemirror_mode": {
        "name": "ipython",
        "version": 3
      },
      "file_extension": ".py",
      "mimetype": "text/x-python",
      "name": "python",
      "nbconvert_exporter": "python",
      "pygments_lexer": "ipython3",
      "version": "3.12.3"
    }
  },
  "nbformat": 4,
  "nbformat_minor": 2
}
